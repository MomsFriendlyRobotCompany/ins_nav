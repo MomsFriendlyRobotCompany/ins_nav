{
 "cells": [
  {
   "cell_type": "markdown",
   "metadata": {},
   "source": [
    "# INS\n",
    "\n"
   ]
  },
  {
   "cell_type": "code",
   "execution_count": 2,
   "metadata": {},
   "outputs": [],
   "source": [
    "%matplotlib inline"
   ]
  },
  {
   "cell_type": "code",
   "execution_count": 3,
   "metadata": {},
   "outputs": [],
   "source": [
    "from __future__ import print_function, division\n",
    "import numpy as np # matrix manipulations\n",
    "from matplotlib import pyplot as plt           # this lets you draw inline pictures in the notebooks\n",
    "import pylab                                   # this allows you to control figure size \n",
    "pylab.rcParams['figure.figsize'] = (10.0, 10.0) # this controls figure size in the notebook"
   ]
  },
  {
   "cell_type": "code",
   "execution_count": 4,
   "metadata": {},
   "outputs": [],
   "source": [
    "from math import sin, cos, atan2, pi, sqrt, asin\n",
    "from math import radians as deg2rad\n",
    "from math import degrees as rad2deg"
   ]
  },
  {
   "cell_type": "code",
   "execution_count": 6,
   "metadata": {},
   "outputs": [],
   "source": [
    "from squaternion import Quaternion, euler2quat, quat2euler, quatNorm"
   ]
  },
  {
   "cell_type": "code",
   "execution_count": 3,
   "metadata": {},
   "outputs": [],
   "source": [
    "#your python code here\n",
    "def normalize(x, y, z):\n",
    "    \"\"\"Return a unit vector\"\"\"\n",
    "    norm = sqrt(x * x + y * y + z * z)\n",
    "\n",
    "    # already a unit vector\n",
    "    if norm == 1.0:\n",
    "        return (x, y, z)\n",
    "\n",
    "    if norm > 0.0:\n",
    "        inorm = 1/norm\n",
    "        x *= inorm\n",
    "        y *= inorm\n",
    "        z *= inorm\n",
    "    else:\n",
    "        raise Exception('division by zero: {} {} {}'.format(x, y, z))\n",
    "    return (x, y, z,)\n",
    "\n",
    "def skew4(wx, wy, wz):\n",
    "    return np.array([\n",
    "        (0, wz, -wy, wx),\n",
    "        (-wz, 0, wz, -wy),\n",
    "        (wy, -wx, 0, wz),\n",
    "        (-wx, -wy, -wz, 0)\n",
    "    ])\n",
    "\n",
    "\n",
    "def skew3(wx, wy, wz):\n",
    "    return np.array([\n",
    "        (0, -wz, wy),\n",
    "        (wz, 0, -wx),\n",
    "        (-wy, wx, 0)\n",
    "    ])"
   ]
  },
  {
   "cell_type": "code",
   "execution_count": null,
   "metadata": {},
   "outputs": [],
   "source": [
    "def gps2ecef(lat, lon, H):\n",
    "    # phi = lat\n",
    "    # lambda = lon\n",
    "    # H = height above mean sea-level (altitude)\n",
    "    e = 1.0\n",
    "    re = 6378137.0  # radius of Earth in meters\n",
    "    \n",
    "    # convert degrees to angles\n",
    "    lat *= pi/180\n",
    "    lon *= pi/180\n",
    "    \n",
    "    rm = re * (1.0 - e**2) / pow(1.0 - e**2 * sin(lat)**2, 3.0 / 2.0)\n",
    "    rn = re / sqrt(1.0 - e**2 * sin(lat)**2)\n",
    "    x = (rn + H) * cos(lat) * cos(lon)\n",
    "    y = (rn + H) * cos(lat) * sin(lon)\n",
    "    z = (rm + H) * sin(lat)\n",
    "    return x, y, z"
   ]
  },
  {
   "cell_type": "code",
   "execution_count": 6,
   "metadata": {},
   "outputs": [],
   "source": [
    "# System equations of motion (eom)\n",
    "# these follow the Titterton ECEF derivation\n",
    "def eom(t, X, u):\n",
    "    \"\"\"\n",
    "    State vector\n",
    "    X = tuple[vx vy vz px py pz qw qx qy qz]\n",
    "    v - velocity\n",
    "    p - position\n",
    "    q - quaternion (orientation)\n",
    "\n",
    "    These are sensor readings from IMU\n",
    "    u = [fx fy fz wx wy wz]\n",
    "    f - force (acceleration)\n",
    "    w - angular velocity (from gyros)\n",
    "    \"\"\"\n",
    "    q = X[6:]\n",
    "    f = u[0:3] \n",
    "    wx, wy, wz = u[3:]\n",
    "    p = X[3:6]\n",
    "    v = X[0:3]\n",
    "    wie = np.array([0, 0, 7.292115E-15])\n",
    "    Ceb = np.eye(3)\n",
    "    W = skew4(wx, wy, wz)\n",
    "    \n",
    "    # update local gravity model\n",
    "    gl = g - np.cross(wie, np.cross(wie, p))\n",
    "    \n",
    "    # velocity update\n",
    "    vd = Ceb.dot(f)-2.0*np.cross(wie, np.cross(wie, v)) + gl\n",
    "    \n",
    "    # position update\n",
    "    pd = v\n",
    "    \n",
    "    # orientation update\n",
    "    qd = 0.5 * W.dot(q)\n",
    "\n",
    "    # print('vd', vd)\n",
    "    # print('pd', pd)\n",
    "    # print('qd', qd)\n",
    "\n",
    "    XX = np.hstack((vd, pd, qd))\n",
    "    return XX"
   ]
  },
  {
   "cell_type": "code",
   "execution_count": null,
   "metadata": {},
   "outputs": [],
   "source": [
    "class Sim(object):\n",
    "    def __init__(self, eom, imu):\n",
    "        self.eom = eom\n",
    "        \n",
    "        # grab the inertial sensors\n",
    "        self.accels = [x.linear_accel for x in imu]\n",
    "        self.gyros = [x.angular_vel for x in imu]\n",
    "        self.mags = [x.magnetic_field for x in imu]\n",
    "        \n",
    "        # make a relative delta time from the first time step\n",
    "        dts = [x.timestamp for x in imu]\n",
    "        start = dts[0]\n",
    "        self.dts = [x - start for x in dts]\n",
    "    \n",
    "    def run_nav(self):\n",
    "        \"\"\"\n",
    "        These are the navigation only equations, no EKF corrections\n",
    "        \"\"\"\n",
    "        rk = RK(self.eom)\n",
    "        \n",
    "        # initial states\n",
    "        vel = (0,0,0)\n",
    "        pos = (0,0,0)\n",
    "        orient = (1,0,0,0)\n",
    "        X = vel + pos + orient\n",
    "        \n",
    "        save = [X]\n",
    "        \n",
    "        for i, dt in enumerate(self.dts):\n",
    "            u = np.array(self.accels[i] + self.gyros[i])\n",
    "            X = rk.step(X,u,dt)\n",
    "            save.append(X)"
   ]
  }
 ],
 "metadata": {
  "kernelspec": {
   "display_name": "Python 3",
   "language": "python",
   "name": "python3"
  },
  "language_info": {
   "codemirror_mode": {
    "name": "ipython",
    "version": 3
   },
   "file_extension": ".py",
   "mimetype": "text/x-python",
   "name": "python",
   "nbconvert_exporter": "python",
   "pygments_lexer": "ipython3",
   "version": "3.6.5"
  }
 },
 "nbformat": 4,
 "nbformat_minor": 2
}
