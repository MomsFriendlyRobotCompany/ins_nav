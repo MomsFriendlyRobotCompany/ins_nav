{
 "cells": [
  {
   "cell_type": "markdown",
   "metadata": {},
   "source": [
    "# Lidar\n",
    "\n",
    "Kevin Walchko\n",
    "\n",
    "7 July 2019\n",
    "\n",
    "---\n",
    "\n",
    "blah ...\n",
    "\n",
    "## References\n",
    "\n",
    "- [TBD]()"
   ]
  },
  {
   "cell_type": "code",
   "execution_count": 1,
   "metadata": {},
   "outputs": [],
   "source": [
    "%matplotlib inline"
   ]
  },
  {
   "cell_type": "code",
   "execution_count": 2,
   "metadata": {},
   "outputs": [],
   "source": [
    "import numpy as np\n",
    "import the_collector\n",
    "from the_collector import BagIt, Pickle, Data\n",
    "from matplotlib import pyplot as plt"
   ]
  },
  {
   "cell_type": "code",
   "execution_count": 3,
   "metadata": {},
   "outputs": [],
   "source": [
    "import matplotlib.animation as animation\n",
    "from matplotlib import rc\n",
    "from IPython.display import HTML\n",
    "\n",
    "rc('animation', html='html5')\n",
    "\n",
    "def plot_lidar_range(lidar, fname=None):\n",
    "    \"\"\"\n",
    "    lidar - rangle data\n",
    "    fname - file name to save mp4 to\n",
    "    \"\"\"\n",
    "    def update_line(num, scans, theta, line):\n",
    "        scan = scans[num]\n",
    "        offsets = np.array([(th, rng) for th, rng in zip(theta, scan)])\n",
    "        line.set_offsets(offsets)\n",
    "        intens = np.array([meas for meas in scan])\n",
    "        line.set_array(intens)\n",
    "        return line,\n",
    "\n",
    "    dmax = 0\n",
    "    for scan in lidar:\n",
    "        for d in scan:\n",
    "            dmax = d if d > dmax else dmax\n",
    "\n",
    "    theta = [i*2*pi/360 for i in range(360)]\n",
    "\n",
    "    fig = plt.figure()\n",
    "    fig.suptitle('Range [m]')\n",
    "    ax = plt.subplot(111, projection='polar')\n",
    "    line = ax.scatter([0, 0], [0, 0])\n",
    "    ax.set_rmax(1.25*dmax)\n",
    "    ax.grid(True)\n",
    "\n",
    "    ani = animation.FuncAnimation(\n",
    "        fig,\n",
    "        update_line,\n",
    "        fargs=(lidar, theta, line),\n",
    "        interval=100,\n",
    "        frames=len(lidar),\n",
    "        blit=True)\n",
    "    \n",
    "    if fname:\n",
    "        ani.save(fname)\n",
    "        \n",
    "    return ani"
   ]
  },
  {
   "cell_type": "code",
   "execution_count": null,
   "metadata": {},
   "outputs": [],
   "source": []
  }
 ],
 "metadata": {
  "kernelspec": {
   "display_name": "Python 3",
   "language": "python",
   "name": "python3"
  },
  "language_info": {
   "codemirror_mode": {
    "name": "ipython",
    "version": 3
   },
   "file_extension": ".py",
   "mimetype": "text/x-python",
   "name": "python",
   "nbconvert_exporter": "python",
   "pygments_lexer": "ipython3",
   "version": "3.7.0b3"
  }
 },
 "nbformat": 4,
 "nbformat_minor": 2
}
