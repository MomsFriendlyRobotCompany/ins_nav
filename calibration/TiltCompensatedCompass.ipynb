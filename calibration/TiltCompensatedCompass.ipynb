{
 "cells": [
  {
   "cell_type": "markdown",
   "metadata": {},
   "source": [
    "# Tilt Compensated Compass\n",
    "\n",
    "Kevin Walchko\n",
    "\n",
    "7 July 2019\n",
    "\n",
    "---\n",
    "\n",
    "A tilt-compensated compass or eCompass uses an accerlometer to determine the mangnetometer's orientation in 3D space and correct any detected tilt. Thus, the compass acks like it is always laying on a flat table with respect to the Earth's magnetic field.\n",
    "\n",
    "Steps:\n",
    "\n",
    "1. Determine a magnetometer bias based off a data set where we tumbled the sensor around in 3D space.\n",
    "2. Determine the accelerometer bias based off the sensor sitting still on a table for a period of time\n",
    "3. Using the still data set, correct both the magnetometer and acceleration data for the determined biases\n",
    "4. Run the compass program and see what it gets\n",
    "    1. Since the sensor is sitting still on a table, the answer should be: roll=pitch=0 and heading=240 degs\n",
    "\n",
    "## References\n",
    "\n",
    "- [AN4248 Implementing a Tilt-Compensated eCompass using an Accelerometer and Magnetometer Sensors](https://www.nxp.com/files-static/sensors/doc/app_note/AN4248.pdf)"
   ]
  },
  {
   "cell_type": "code",
   "execution_count": 1,
   "metadata": {},
   "outputs": [],
   "source": [
    "%matplotlib inline"
   ]
  },
  {
   "cell_type": "code",
   "execution_count": 2,
   "metadata": {},
   "outputs": [],
   "source": [
    "import numpy as np\n",
    "import the_collector\n",
    "from the_collector import BagIt, Pickle, Data\n",
    "from matplotlib import pyplot as plt"
   ]
  },
  {
   "cell_type": "code",
   "execution_count": 7,
   "metadata": {},
   "outputs": [],
   "source": [
    "def apply_calibration(data, bias):\n",
    "    \"\"\"\n",
    "    Given the data and the bias, correct the data \n",
    "    \"\"\"\n",
    "    c_data = []\n",
    "    for d in data:\n",
    "        t = []\n",
    "        for i in [0,1,2]:\n",
    "            t.append(d[i]-bias[i])\n",
    "        c_data.append(t)\n",
    "            \n",
    "    return c_data"
   ]
  },
  {
   "cell_type": "code",
   "execution_count": 8,
   "metadata": {},
   "outputs": [],
   "source": [
    "def find_still_calibration(a, ref):\n",
    "    # we expect to see [0,0,1] for acceleration, so we will find the \n",
    "    # average offset from\n",
    "    # that value and use it as the bias ... this is far from the best\n",
    "    # way to do this in the real world.\n",
    "    xx = np.mean([x[0] for x in a])\n",
    "    yy = np.mean([x[1] for x in a])\n",
    "    zz = np.mean([x[2] for x in a])\n",
    "    \n",
    "    return (xx - ref[0], yy - ref[1], zz - ref[2],)"
   ]
  },
  {
   "cell_type": "code",
   "execution_count": 5,
   "metadata": {},
   "outputs": [],
   "source": [
    "def find_mag_calibration(mag):\n",
    "    \"\"\"\n",
    "    Go through the raw data and find the max/min for x, y, z\n",
    "    \"\"\"\n",
    "    max_m = [-1000]*3\n",
    "    min_m = [1000]*3\n",
    "    for m in mag:\n",
    "        for i in range(3):\n",
    "            max_m[i] = m[i] if m[i] > max_m[i] else max_m[i]\n",
    "            min_m[i] = m[i] if m[i] < min_m[i] else min_m[i]\n",
    "    bias = [0]*3\n",
    "    for i in range(3):\n",
    "        bias[i] = (max_m[i] + min_m[i])/2\n",
    "    return bias"
   ]
  },
  {
   "cell_type": "code",
   "execution_count": 12,
   "metadata": {},
   "outputs": [
    {
     "name": "stdout",
     "output_type": "stream",
     "text": [
      ">>  pickle\n",
      ">> Reading[pickle]: data-tumble.pickle.bag\n"
     ]
    }
   ],
   "source": [
    "# use the tumble data to get a good bias for the magnetometers.\n",
    "# It turns out, that you want to understand the Earth's magnetic\n",
    "# field in all orientations and determine a bias from that. We will\n",
    "# calibrate the accelerometer differently\n",
    "bag = BagIt(Pickle)\n",
    "cal = bag.read('data-tumble.pickle.bag')\n",
    "mag = [x.data for x in cal['mag']]\n",
    "m_bias = find_mag_calibration(mag)"
   ]
  },
  {
   "cell_type": "code",
   "execution_count": 9,
   "metadata": {},
   "outputs": [
    {
     "name": "stdout",
     "output_type": "stream",
     "text": [
      ">> Reading[pickle]: data-still.pickle.bag\n"
     ]
    }
   ],
   "source": [
    "# get the still data\n",
    "still_cal = bag.read('data-still.pickle.bag')\n",
    "\n",
    "# get and correct acceleration data\n",
    "sa = [x.data for x in still_cal['accel']]\n",
    "a_bias = find_still_calibration(sa, (0,0,1))\n",
    "csa = apply_calibration(sa, a_bias)\n",
    "\n",
    "# get and correct the magnetometer data, but notice we are\n",
    "# using the bias that was detected from the tumble data set\n",
    "sm = [x.data for x in still_cal['mag']]\n",
    "csm = apply_calibration(sm, m_bias)"
   ]
  },
  {
   "cell_type": "code",
   "execution_count": 13,
   "metadata": {},
   "outputs": [],
   "source": [
    "# If your magnetometer is always flat, then you will get a good reading. However,\n",
    "# if your magnetometer tilts, then you use the accelerometer to account for\n",
    "# orientation of the magnetometer when reading the Earth's magnetic field, so you\n",
    "# get an accurate reading.\n",
    "from ins_nav import TiltCompensatedCompass as TCC\n",
    "\n",
    "saver = []\n",
    "savep = []\n",
    "saveh = []\n",
    "\n",
    "t = list(1/200 * np.array(list(range(len(csm)))))\n",
    "\n",
    "tcc = TCC()\n",
    "for a,m in zip(csa, csm):\n",
    "    r,p,h = tcc.compensate(a,m)\n",
    "    saver.append(r)\n",
    "    savep.append(p)\n",
    "    saveh.append(h)"
   ]
  },
  {
   "cell_type": "code",
   "execution_count": 14,
   "metadata": {},
   "outputs": [
    {
     "data": {
      "image/png": "[encoded data removed]",
      "text/plain": [
       "<Figure size 432x288 with 1 Axes>"
      ]
     },
     "metadata": {
      "needs_background": "light"
     },
     "output_type": "display_data"
    }
   ],
   "source": [
    "# The data was collected with the compass sitting flat on a\n",
    "# table. Thus, roll = pitch = 0 and heading should be around\n",
    "# the 240 degs (without accounting for declination angle).\n",
    "plt.plot(t, saver, label='roll')\n",
    "plt.plot(t, savep, label='pitch')\n",
    "plt.plot(t, saveh, label='heading')\n",
    "plt.grid(True)\n",
    "plt.ylabel(\"degs\")\n",
    "plt.xlabel(\"seconds\")\n",
    "plt.title(np.mean(saveh));"
   ]
  },
  {
   "cell_type": "markdown",
   "metadata": {},
   "source": [
    "# Conclusion\n",
    "\n",
    "We end up with what we want: roll=pitch=0 and heading=240 (really close) ... **success!** \n",
    "\n",
    "The acceration calibration was only done in the z-axis direction. For better performance, it should be done in x, y, and z axis directions (both positive and negative) and couple axis x-y, x-z, and y-z directions (basically tilt the sensor so gravity is on both axes at the same time)."
   ]
  },
  {
   "cell_type": "code",
   "execution_count": null,
   "metadata": {},
   "outputs": [],
   "source": []
  }
 ],
 "metadata": {
  "kernelspec": {
   "display_name": "Python 3",
   "language": "python",
   "name": "python3"
  },
  "language_info": {
   "codemirror_mode": {
    "name": "ipython",
    "version": 3
   },
   "file_extension": ".py",
   "mimetype": "text/x-python",
   "name": "python",
   "nbconvert_exporter": "python",
   "pygments_lexer": "ipython3",
   "version": "3.7.0b3"
  }
 },
 "nbformat": 4,
 "nbformat_minor": 2
}
