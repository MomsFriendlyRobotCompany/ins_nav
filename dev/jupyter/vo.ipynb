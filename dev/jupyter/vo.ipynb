{
 "cells": [
  {
   "cell_type": "code",
   "execution_count": 71,
   "metadata": {},
   "outputs": [],
   "source": [
    "import numpy as np\n",
    "from the_collector import BagIt, Pickle\n",
    "from matplotlib import pyplot as plt\n",
    "\n",
    "import cv2\n",
    "\n",
    "from colorama import Fore"
   ]
  },
  {
   "cell_type": "code",
   "execution_count": 2,
   "metadata": {},
   "outputs": [],
   "source": [
    "def info(bag):\n",
    "    print('Bag keys:')\n",
    "    print('-'*50)\n",
    "    for k in bag.keys():\n",
    "        print(f'  {k:>10}: {len(bag[k]):<7}')\n",
    "        \n",
    "def plot3(t, data,title):\n",
    "    x = [x[0] for x in data]\n",
    "    y = [x[1] for x in data]\n",
    "    z = [x[2] for x in data]\n",
    "    plt.plot(t,x,label='x')\n",
    "    plt.plot(t,y,label='y')\n",
    "    plt.plot(t,z,label='z')\n",
    "    plt.title(title)\n",
    "    plt.legend()\n",
    "    plt.grid(True);"
   ]
  },
  {
   "cell_type": "code",
   "execution_count": 3,
   "metadata": {},
   "outputs": [
    {
     "name": "stdout",
     "output_type": "stream",
     "text": [
      ">> Reading[pickle]: ../path-data/test-simple.pickle.bag\n",
      "Bag keys:\n",
      "--------------------------------------------------\n",
      "         imu: 1420   \n",
      "      camera: 1413   \n"
     ]
    }
   ],
   "source": [
    "bagfile = \"../path-data/test-simple.pickle.bag\"\n",
    "bag = BagIt(Pickle)\n",
    "data = bag.read(bagfile)\n",
    "info(data)"
   ]
  },
  {
   "cell_type": "code",
   "execution_count": 4,
   "metadata": {},
   "outputs": [],
   "source": [
    "accel = np.array([x[0] for x in data[\"imu\"]])\n",
    "gyro = np.array([x[1] for x in data[\"imu\"]])\n",
    "mag = np.array([x[2] for x in data[\"imu\"]])\n",
    "\n",
    "start = data[\"imu\"][0][3]\n",
    "t = np.array([x[3]-start for x in data[\"imu\"]])"
   ]
  },
  {
   "cell_type": "code",
   "execution_count": 170,
   "metadata": {},
   "outputs": [],
   "source": [
    "def featureDetection():\n",
    "    thresh = dict(threshold=25, nonmaxSuppression=True);\n",
    "    fast = cv2.FastFeatureDetector_create(**thresh)\n",
    "    return fast\n",
    "\n",
    "def getAbsoluteScale(f0, f1):\n",
    "    x_pre, y_pre, z_pre = f0\n",
    "    x    , y    , z     = f1\n",
    "    scale = np.sqrt((x-x_pre)**2 + (y-y_pre)**2 + (z-z_pre)**2)\n",
    "    return x, y, z, scale\n",
    "\n",
    "def featureTracking(img_1, img_2, p1):\n",
    "    w = 33\n",
    "    win = (w,w)\n",
    "    lk_params = dict( winSize  = win,\n",
    "                      maxLevel = 3,\n",
    "                      criteria = (cv2.TERM_CRITERIA_EPS | cv2.TERM_CRITERIA_COUNT, 30, 0.01))\n",
    "\n",
    "    p2, st, err = cv2.calcOpticalFlowPyrLK(img_1, img_2, p1, None, **lk_params)\n",
    "#     print(err)\n",
    "    st = st.reshape(st.shape[0])\n",
    "    ##find good one\n",
    "    p1 = p1[st==1]\n",
    "    p2 = p2[st==1]\n",
    "\n",
    "    return p1,p2"
   ]
  },
  {
   "cell_type": "code",
   "execution_count": 193,
   "metadata": {},
   "outputs": [],
   "source": [
    "def run(images):\n",
    "    img_1 = images[0]\n",
    "    img_2 = images[0]\n",
    "\n",
    "    if len(img_1) == 3:\n",
    "        gray_1 = cv2.cvtColor(img_1, cv2.COLOR_BGR2GRAY)\n",
    "        gray_2 = cv2.cvtColor(img_2, cv2.COLOR_BGR2GRAY)\n",
    "    else:\n",
    "        gray_1 = img_1\n",
    "        gray_2 = img_2\n",
    "\n",
    "    # find the detector\n",
    "    detector = featureDetection()\n",
    "    kp1      = detector.detect(img_1)\n",
    "    p1       = np.array([kp.pt for kp in kp1],dtype='float32')\n",
    "    p1, p2   = featureTracking(gray_1, gray_2, p1)\n",
    "\n",
    "    # Camera parameters\n",
    "    fc = 3.04/(1.12*1e-3) # mm/(mm/px) -> px\n",
    "    px = 320/2\n",
    "    py = 240/2\n",
    "    pp = (px,py)\n",
    "    K  = np.array([\n",
    "            [fc, 0, px],\n",
    "            [0, fc, py],\n",
    "            [0, 0, 1]])\n",
    "\n",
    "#     E, mask = cv2.findEssentialMat(p2, p1, fc, pp, cv2.RANSAC,0.999,1.0);\n",
    "#     _, R, t, mask = cv2.recoverPose(E, p2, p1,focal=fc, pp = pp);\n",
    "\n",
    "    # initialize some parameters\n",
    "    MAX_FRAME     = 300 #len(images)\n",
    "    MIN_NUM_FEAT  = 30\n",
    "\n",
    "    preFeature = p2\n",
    "    preImage   = gray_2\n",
    "\n",
    "    R_f = np.eye(3) #R\n",
    "    t_f = np.array([0,0,0]) #t\n",
    "    print(R_f,t_f)\n",
    "\n",
    "    maxError = 0\n",
    "    ret_pos = []\n",
    "    \n",
    "    for numFrame in range(2, MAX_FRAME):\n",
    "\n",
    "        if numFrame % 20 == 0:\n",
    "            print(numFrame)\n",
    "\n",
    "        if (len(preFeature) < MIN_NUM_FEAT):\n",
    "            feature   = detector.detect(preImage)\n",
    "            preFeature = np.array([ele.pt for ele in feature],dtype='float32')\n",
    "            print(f\"{Fore.RED}Found new features: {preFeature.shape[0]}{Fore.RESET}\")\n",
    "\n",
    "        curImage_c = images[numFrame]\n",
    "\n",
    "        if len(curImage_c) == 3:\n",
    "              curImage = cv2.cvtColor(currImage_c, cv2.COLOR_BGR2GRAY)\n",
    "        else:\n",
    "              curImage = curImage_c\n",
    "\n",
    "        kp1 = detector.detect(curImage);\n",
    "        preFeature, curFeature = featureTracking(preImage, curImage, preFeature)\n",
    "        E, mask = cv2.findEssentialMat(curFeature, preFeature, fc, pp, cv2.RANSAC,0.999,1.0);\n",
    "        _, R, t, mask = cv2.recoverPose(E, curFeature, preFeature, focal=fc, pp = pp)\n",
    "        t = t.T[0]\n",
    "\n",
    "#         truth_x, truth_y, truth_z, absolute_scale = getAbsoluteScale(\n",
    "#             ground_truth[numFrame-1], ground_truth[numFrame])\n",
    "        \n",
    "#         if numFrame % 20 == 0:\n",
    "#             print('scale', absolute_scale)\n",
    "\n",
    "        absolute_scale = 1.0\n",
    "            \n",
    "        if absolute_scale > 0.1:\n",
    "            R_f = R_f.dot(R)\n",
    "            t_f = t_f + absolute_scale*R_f.dot(t)\n",
    "#             R_f = R.dot(R_f)\n",
    "#             R_f = R_f.dot(R)\n",
    "        else:\n",
    "            print(\"crap ... bad scale:\", absolute_scale)\n",
    "\n",
    "        preImage = curImage\n",
    "        preFeature = curFeature\n",
    "\n",
    "        ret_pos.append(t_f)\n",
    "\n",
    "    return ret_pos"
   ]
  },
  {
   "cell_type": "code",
   "execution_count": 194,
   "metadata": {},
   "outputs": [],
   "source": [
    "imgs = [x[0] for x in data[\"camera\"]]\n",
    "tc   = [x[1] for x in data[\"camera\"]]"
   ]
  },
  {
   "cell_type": "code",
   "execution_count": 195,
   "metadata": {},
   "outputs": [
    {
     "name": "stdout",
     "output_type": "stream",
     "text": [
      "[[1. 0. 0.]\n",
      " [0. 1. 0.]\n",
      " [0. 0. 1.]] [0 0 0]\n",
      "20\n",
      "40\n",
      "60\n",
      "80\n",
      "100\n",
      "120\n",
      "140\n",
      "160\n",
      "180\n",
      "200\n",
      "220\n",
      "240\n",
      "260\n",
      "280\n"
     ]
    }
   ],
   "source": [
    "pts = np.array(run(imgs))"
   ]
  },
  {
   "cell_type": "code",
   "execution_count": 196,
   "metadata": {},
   "outputs": [
    {
     "data": {
      "image/png": "[encoded data removed]",
      "text/plain": [
       "<Figure size 432x288 with 1 Axes>"
      ]
     },
     "metadata": {
      "needs_background": "light"
     },
     "output_type": "display_data"
    }
   ],
   "source": [
    "plt.plot(pts[:,0], pts[:,1], label='Odometry')\n",
    "plt.title(f'Results {pts.shape}')\n",
    "plt.grid(True)\n",
    "plt.axis('equal')\n",
    "plt.xlabel('x [m]')\n",
    "plt.ylabel('y [m]');"
   ]
  },
  {
   "cell_type": "code",
   "execution_count": 192,
   "metadata": {},
   "outputs": [
    {
     "data": {
      "text/plain": [
       "[<matplotlib.lines.Line2D at 0x125a6e760>]"
      ]
     },
     "execution_count": 192,
     "metadata": {},
     "output_type": "execute_result"
    },
    {
     "data": {
      "image/png": "[encoded data removed]",
      "text/plain": [
       "<Figure size 432x288 with 1 Axes>"
      ]
     },
     "metadata": {
      "needs_background": "light"
     },
     "output_type": "display_data"
    }
   ],
   "source": [
    "plt.plot(pts[:,2])"
   ]
  },
  {
   "cell_type": "code",
   "execution_count": 169,
   "metadata": {},
   "outputs": [
    {
     "name": "stdout",
     "output_type": "stream",
     "text": [
      "Help on built-in function calcOpticalFlowPyrLK:\n",
      "\n",
      "calcOpticalFlowPyrLK(...)\n",
      "    calcOpticalFlowPyrLK(prevImg, nextImg, prevPts, nextPts[, status[, err[, winSize[, maxLevel[, criteria[, flags[, minEigThreshold]]]]]]]) -> nextPts, status, err\n",
      "    .   @brief Calculates an optical flow for a sparse feature set using the iterative Lucas-Kanade method with\n",
      "    .   pyramids.\n",
      "    .   \n",
      "    .   @param prevImg first 8-bit input image or pyramid constructed by buildOpticalFlowPyramid.\n",
      "    .   @param nextImg second input image or pyramid of the same size and the same type as prevImg.\n",
      "    .   @param prevPts vector of 2D points for which the flow needs to be found; point coordinates must be\n",
      "    .   single-precision floating-point numbers.\n",
      "    .   @param nextPts output vector of 2D points (with single-precision floating-point coordinates)\n",
      "    .   containing the calculated new positions of input features in the second image; when\n",
      "    .   OPTFLOW_USE_INITIAL_FLOW flag is passed, the vector must have the same size as in the input.\n",
      "    .   @param status output status vector (of unsigned chars); each element of the vector is set to 1 if\n",
      "    .   the flow for the corresponding features has been found, otherwise, it is set to 0.\n",
      "    .   @param err output vector of errors; each element of the vector is set to an error for the\n",
      "    .   corresponding feature, type of the error measure can be set in flags parameter; if the flow wasn't\n",
      "    .   found then the error is not defined (use the status parameter to find such cases).\n",
      "    .   @param winSize size of the search window at each pyramid level.\n",
      "    .   @param maxLevel 0-based maximal pyramid level number; if set to 0, pyramids are not used (single\n",
      "    .   level), if set to 1, two levels are used, and so on; if pyramids are passed to input then\n",
      "    .   algorithm will use as many levels as pyramids have but no more than maxLevel.\n",
      "    .   @param criteria parameter, specifying the termination criteria of the iterative search algorithm\n",
      "    .   (after the specified maximum number of iterations criteria.maxCount or when the search window\n",
      "    .   moves by less than criteria.epsilon.\n",
      "    .   @param flags operation flags:\n",
      "    .    -   **OPTFLOW_USE_INITIAL_FLOW** uses initial estimations, stored in nextPts; if the flag is\n",
      "    .        not set, then prevPts is copied to nextPts and is considered the initial estimate.\n",
      "    .    -   **OPTFLOW_LK_GET_MIN_EIGENVALS** use minimum eigen values as an error measure (see\n",
      "    .        minEigThreshold description); if the flag is not set, then L1 distance between patches\n",
      "    .        around the original and a moved point, divided by number of pixels in a window, is used as a\n",
      "    .        error measure.\n",
      "    .   @param minEigThreshold the algorithm calculates the minimum eigen value of a 2x2 normal matrix of\n",
      "    .   optical flow equations (this matrix is called a spatial gradient matrix in @cite Bouguet00), divided\n",
      "    .   by number of pixels in a window; if this value is less than minEigThreshold, then a corresponding\n",
      "    .   feature is filtered out and its flow is not processed, so it allows to remove bad points and get a\n",
      "    .   performance boost.\n",
      "    .   \n",
      "    .   The function implements a sparse iterative version of the Lucas-Kanade optical flow in pyramids. See\n",
      "    .   @cite Bouguet00 . The function is parallelized with the TBB library.\n",
      "    .   \n",
      "    .   @note\n",
      "    .   \n",
      "    .   -   An example using the Lucas-Kanade optical flow algorithm can be found at\n",
      "    .       opencv_source_code/samples/cpp/lkdemo.cpp\n",
      "    .   -   (Python) An example using the Lucas-Kanade optical flow algorithm can be found at\n",
      "    .       opencv_source_code/samples/python/lk_track.py\n",
      "    .   -   (Python) An example using the Lucas-Kanade tracker for homography matching can be found at\n",
      "    .       opencv_source_code/samples/python/lk_homography.py\n",
      "\n"
     ]
    }
   ],
   "source": [
    "help(cv2.calcOpticalFlowPyrLK)"
   ]
  },
  {
   "cell_type": "code",
   "execution_count": 197,
   "metadata": {},
   "outputs": [
    {
     "data": {
      "text/plain": [
       "153600"
      ]
     },
     "execution_count": 197,
     "metadata": {},
     "output_type": "execute_result"
    }
   ],
   "source": [
    "320*240*2"
   ]
  },
  {
   "cell_type": "code",
   "execution_count": 198,
   "metadata": {},
   "outputs": [
    {
     "data": {
      "text/plain": [
       "307200"
      ]
     },
     "execution_count": 198,
     "metadata": {},
     "output_type": "execute_result"
    }
   ],
   "source": [
    "640*480"
   ]
  },
  {
   "cell_type": "code",
   "execution_count": null,
   "metadata": {},
   "outputs": [],
   "source": []
  }
 ],
 "metadata": {
  "kernelspec": {
   "display_name": "Python 3",
   "language": "python",
   "name": "python3"
  },
  "language_info": {
   "codemirror_mode": {
    "name": "ipython",
    "version": 3
   },
   "file_extension": ".py",
   "mimetype": "text/x-python",
   "name": "python",
   "nbconvert_exporter": "python",
   "pygments_lexer": "ipython3",
   "version": "3.8.3"
  }
 },
 "nbformat": 4,
 "nbformat_minor": 4
}
