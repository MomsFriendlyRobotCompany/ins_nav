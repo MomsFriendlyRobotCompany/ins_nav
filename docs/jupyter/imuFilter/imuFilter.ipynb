{
 "cells": [
  {
   "cell_type": "code",
   "execution_count": null,
   "metadata": {},
   "outputs": [],
   "source": []
  },
  {
   "cell_type": "code",
   "execution_count": 3,
   "metadata": {},
   "outputs": [],
   "source": [
    "import numpy as np\n",
    "from numpy.linalg import inv\n",
    "import matplotlib.pyplot as plt\n",
    "from squaternion import Quaternion"
   ]
  },
  {
   "cell_type": "code",
   "execution_count": null,
   "metadata": {},
   "outputs": [],
   "source": [
    "class imuFilter:\n",
    "    def __init__(self, R, Q):\n",
    "        self.q = Quatenion()\n",
    "        self.dt = 0.\n",
    "        self.x = np.array([0]*10) # [qb,ab,wb]\n",
    "        self.abias = 0\n",
    "        self.wbias = 0\n",
    "        self.qbias = Quaternion(0,0,0,0)\n",
    "        self.R = R\n",
    "        self.Q = Q\n",
    "        self.P = Q\n",
    "    \n",
    "    def model(self, accel, gyro):\n",
    "        \"\"\"\n",
    "        accel/gyro: (x,y,z) readings from IMU\n",
    "        q: quaternion attitude estimate\n",
    "        a: acceleration\n",
    "        g: esitmate of gravity vector\n",
    "        \"\"\"\n",
    "        abias = self.x[3:6]\n",
    "        a = accel - self.abias\n",
    "        wbias = self.x[6:]\n",
    "        w = gyro - self.wbias\n",
    "        q = self.q + 0.5*self.dt*self.q * Quaternion(0, w[0], w[1], w[2])\n",
    "        g = np.array(q.to_rot())[2,:] # save a transpose g[2,:] = (g.T)[:,2]\n",
    "        return q,a,g\n",
    "        \n",
    "    def correction(self):\n",
    "        o = self.x[:4]\n",
    "        ab = self.x[4:7]\n",
    "        wb = self.x[7:]\n",
    "        \n",
    "        self.abias = self.abias*v-ab\n",
    "        self.wbias = self.wbias-wb\n",
    "        \n",
    "    def kf(self,z,g):\n",
    "        gx,gy,gz = g\n",
    "        k = 0.001 # fixme\n",
    "        self.x = np.array([0]*10)\n",
    "        H = np.array([\n",
    "            [  0,  gz, -gy,     0, -k*gz,  k*gy, 1, 0, 0],\n",
    "            [-gz,   0,  gx,  k*gz,     0, -k*gx, 0, 1, 0],\n",
    "            [ gy, -gx,   0, -k*gy,  k*gx,     0, 0, 0, 1]\n",
    "        ])\n",
    "        y = z\n",
    "        s = self.R + H @ P @ H.T\n",
    "        K = self.P @ H.T @ inv(s)        # kalman gain\n",
    "        self.x = K @ y                   # a posteriori state\n",
    "        self.P = self.P - K @ H @ self.P # a posteriori covariance\n",
    "        \n",
    "    def pose(self, accel, gyro):\n",
    "        q,a,g = self.model(accel, gyro)\n",
    "        z = a-g\n",
    "        self.kf(z,g)\n",
    "        self.correction()\n",
    "        return (self.q, a, g)"
   ]
  }
 ],
 "metadata": {
  "kernelspec": {
   "display_name": "Python 3",
   "language": "python",
   "name": "python3"
  },
  "language_info": {
   "codemirror_mode": {
    "name": "ipython",
    "version": 3
   },
   "file_extension": ".py",
   "mimetype": "text/x-python",
   "name": "python",
   "nbconvert_exporter": "python",
   "pygments_lexer": "ipython3",
   "version": "3.8.5"
  }
 },
 "nbformat": 4,
 "nbformat_minor": 4
}
