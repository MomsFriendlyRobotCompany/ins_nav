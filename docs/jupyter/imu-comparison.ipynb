{
 "cells": [
  {
   "cell_type": "markdown",
   "metadata": {},
   "source": [
    "# Compare IMUs\n",
    "\n",
    "- bias\n",
    "- bias stability\n",
    "- random walk\n",
    "- vibration sensitivity"
   ]
  },
  {
   "cell_type": "code",
   "execution_count": 1,
   "metadata": {},
   "outputs": [],
   "source": [
    "import pandas as pd\n",
    "\n",
    "from matplotlib import pyplot as plt\n",
    "%matplotlib inline\n",
    "\n",
    "import seaborn as sns\n",
    "\n",
    "import numpy as np"
   ]
  },
  {
   "cell_type": "code",
   "execution_count": 62,
   "metadata": {},
   "outputs": [],
   "source": [
    "# g = +/-2\n",
    "#\n",
    "data = {\n",
    "    0 : {\n",
    "        \"name\": \"FXOS8700CQ\",\n",
    "        \"bias\": 20,\n",
    "        \"bits\": 14,\n",
    "        \"noise_density\": 126,\n",
    "        \"sensitivity\": 0.244, # mg/LSB\n",
    "        \"bw\": 25, # Hz\n",
    "#         \"random_walk\": ?,\n",
    "    },\n",
    "    1: {\n",
    "        \"name\": \"LSM6DS33\",\n",
    "        \"bias\": 40,\n",
    "        \"bits\": 16, \n",
    "        \"noise_density\": 90,  # ug/sqrt(Hz)\n",
    "        \"sensitivity\": 0.061, # mg/LSB\n",
    "        \"bw\": 104, # Hz\n",
    "    },\n",
    "    2: {\n",
    "        \"name\": \"LSM6DSOX\",\n",
    "        \"bias\": 20,\n",
    "        \"bits\": 16, \n",
    "        \"noise_density\": 70,  # ug/sqrt(Hz)\n",
    "        \"sensitivity\": 0.061, # mg/LSB\n",
    "        \"bw\": 104, # Hz\n",
    "    },\n",
    "    3: {\n",
    "        \"name\": \"LSM9DS1\",\n",
    "        \"bias\": 90,\n",
    "        \"bits\": 16, \n",
    "        \"noise_density\": None,  # ug/sqrt(Hz)\n",
    "        \"sensitivity\": 0.061, # mg/LSB\n",
    "        \"bw\": 20, # Hz\n",
    "    }\n",
    "}"
   ]
  },
  {
   "cell_type": "code",
   "execution_count": 63,
   "metadata": {},
   "outputs": [
    {
     "data": {
      "text/html": [
       "<div>\n",
       "<style scoped>\n",
       "    .dataframe tbody tr th:only-of-type {\n",
       "        vertical-align: middle;\n",
       "    }\n",
       "\n",
       "    .dataframe tbody tr th {\n",
       "        vertical-align: top;\n",
       "    }\n",
       "\n",
       "    .dataframe thead th {\n",
       "        text-align: right;\n",
       "    }\n",
       "</style>\n",
       "<table border=\"1\" class=\"dataframe\">\n",
       "  <thead>\n",
       "    <tr style=\"text-align: right;\">\n",
       "      <th></th>\n",
       "      <th>name</th>\n",
       "      <th>bias</th>\n",
       "      <th>bits</th>\n",
       "      <th>noise_density</th>\n",
       "      <th>sensitivity</th>\n",
       "      <th>bw</th>\n",
       "    </tr>\n",
       "  </thead>\n",
       "  <tbody>\n",
       "    <tr>\n",
       "      <th>0</th>\n",
       "      <td>FXOS8700CQ</td>\n",
       "      <td>20</td>\n",
       "      <td>14</td>\n",
       "      <td>126</td>\n",
       "      <td>0.244</td>\n",
       "      <td>25</td>\n",
       "    </tr>\n",
       "    <tr>\n",
       "      <th>1</th>\n",
       "      <td>LSM6DS33</td>\n",
       "      <td>40</td>\n",
       "      <td>16</td>\n",
       "      <td>90</td>\n",
       "      <td>0.061</td>\n",
       "      <td>104</td>\n",
       "    </tr>\n",
       "    <tr>\n",
       "      <th>2</th>\n",
       "      <td>LSM6DSOX</td>\n",
       "      <td>20</td>\n",
       "      <td>16</td>\n",
       "      <td>70</td>\n",
       "      <td>0.061</td>\n",
       "      <td>104</td>\n",
       "    </tr>\n",
       "    <tr>\n",
       "      <th>3</th>\n",
       "      <td>LSM9DS1</td>\n",
       "      <td>90</td>\n",
       "      <td>16</td>\n",
       "      <td>None</td>\n",
       "      <td>0.061</td>\n",
       "      <td>20</td>\n",
       "    </tr>\n",
       "  </tbody>\n",
       "</table>\n",
       "</div>"
      ],
      "text/plain": [
       "         name bias bits noise_density sensitivity   bw\n",
       "0  FXOS8700CQ   20   14           126       0.244   25\n",
       "1    LSM6DS33   40   16            90       0.061  104\n",
       "2    LSM6DSOX   20   16            70       0.061  104\n",
       "3     LSM9DS1   90   16          None       0.061   20"
      ]
     },
     "execution_count": 63,
     "metadata": {},
     "output_type": "execute_result"
    }
   ],
   "source": [
    "df = pd.DataFrame(data)\n",
    "df = df.transpose()\n",
    "df.head()"
   ]
  },
  {
   "cell_type": "code",
   "execution_count": 64,
   "metadata": {},
   "outputs": [
    {
     "data": {
      "text/html": [
       "<div>\n",
       "<style scoped>\n",
       "    .dataframe tbody tr th:only-of-type {\n",
       "        vertical-align: middle;\n",
       "    }\n",
       "\n",
       "    .dataframe tbody tr th {\n",
       "        vertical-align: top;\n",
       "    }\n",
       "\n",
       "    .dataframe thead th {\n",
       "        text-align: right;\n",
       "    }\n",
       "</style>\n",
       "<table border=\"1\" class=\"dataframe\">\n",
       "  <thead>\n",
       "    <tr style=\"text-align: right;\">\n",
       "      <th></th>\n",
       "      <th>name</th>\n",
       "      <th>bias</th>\n",
       "      <th>bits</th>\n",
       "      <th>noise_density</th>\n",
       "      <th>sensitivity</th>\n",
       "      <th>bw</th>\n",
       "    </tr>\n",
       "  </thead>\n",
       "  <tbody>\n",
       "    <tr>\n",
       "      <th>count</th>\n",
       "      <td>4</td>\n",
       "      <td>4</td>\n",
       "      <td>4</td>\n",
       "      <td>3</td>\n",
       "      <td>4.000</td>\n",
       "      <td>4</td>\n",
       "    </tr>\n",
       "    <tr>\n",
       "      <th>unique</th>\n",
       "      <td>4</td>\n",
       "      <td>3</td>\n",
       "      <td>2</td>\n",
       "      <td>3</td>\n",
       "      <td>2.000</td>\n",
       "      <td>3</td>\n",
       "    </tr>\n",
       "    <tr>\n",
       "      <th>top</th>\n",
       "      <td>FXOS8700CQ</td>\n",
       "      <td>20</td>\n",
       "      <td>16</td>\n",
       "      <td>70</td>\n",
       "      <td>0.061</td>\n",
       "      <td>104</td>\n",
       "    </tr>\n",
       "    <tr>\n",
       "      <th>freq</th>\n",
       "      <td>1</td>\n",
       "      <td>2</td>\n",
       "      <td>3</td>\n",
       "      <td>1</td>\n",
       "      <td>3.000</td>\n",
       "      <td>2</td>\n",
       "    </tr>\n",
       "  </tbody>\n",
       "</table>\n",
       "</div>"
      ],
      "text/plain": [
       "              name  bias  bits  noise_density  sensitivity   bw\n",
       "count            4     4     4              3        4.000    4\n",
       "unique           4     3     2              3        2.000    3\n",
       "top     FXOS8700CQ    20    16             70        0.061  104\n",
       "freq             1     2     3              1        3.000    2"
      ]
     },
     "execution_count": 64,
     "metadata": {},
     "output_type": "execute_result"
    }
   ],
   "source": [
    "df.describe()"
   ]
  },
  {
   "cell_type": "code",
   "execution_count": 65,
   "metadata": {},
   "outputs": [],
   "source": [
    "# noise_rms = noise_density * sqrt(BW)\n",
    "# BW = freq - 3dB*K_filter\n",
    "#  k_filter = 1.57(1st order), 1.11 (2nd), 1.05(3rd)\n",
    "def accel_noise(n, hz):\n",
    "    hz = 200 # I think this can be the same for all\n",
    "    return n * np.sqrt(hz*1.6)"
   ]
  },
  {
   "cell_type": "code",
   "execution_count": 66,
   "metadata": {},
   "outputs": [
    {
     "name": "stdout",
     "output_type": "stream",
     "text": [
      "FXOS8700CQ: 2253.96 ??\n",
      "LSM6DS33: 1609.97 ??\n",
      "LSM6DSOX: 1252.20 ??\n"
     ]
    }
   ],
   "source": [
    "for i in range(3):\n",
    "    n = accel_noise(data[i][\"noise_density\"], data[i][\"bw\"])\n",
    "    print(f\"{data[i]['name']}: {n:0.2f} ??\")"
   ]
  },
  {
   "cell_type": "code",
   "execution_count": 59,
   "metadata": {},
   "outputs": [
    {
     "data": {
      "text/plain": [
       "5187.677707799512"
      ]
     },
     "execution_count": 59,
     "metadata": {},
     "output_type": "execute_result"
    }
   ],
   "source": [
    "accel_noise(290, 6.25)"
   ]
  },
  {
   "cell_type": "code",
   "execution_count": 61,
   "metadata": {},
   "outputs": [
    {
     "data": {
      "text/plain": [
       "4.916045158458169"
      ]
     },
     "execution_count": 61,
     "metadata": {},
     "output_type": "execute_result"
    }
   ],
   "source": [
    "0.5*np.sqrt(100-3*1.11)"
   ]
  },
  {
   "cell_type": "code",
   "execution_count": null,
   "metadata": {},
   "outputs": [],
   "source": []
  }
 ],
 "metadata": {
  "kernelspec": {
   "display_name": "Python 3",
   "language": "python",
   "name": "python3"
  },
  "language_info": {
   "codemirror_mode": {
    "name": "ipython",
    "version": 3
   },
   "file_extension": ".py",
   "mimetype": "text/x-python",
   "name": "python",
   "nbconvert_exporter": "python",
   "pygments_lexer": "ipython3",
   "version": "3.7.5"
  }
 },
 "nbformat": 4,
 "nbformat_minor": 4
}
